{
 "cells": [
  {
   "cell_type": "markdown",
   "id": "65e11b28-c7bc-4950-a478-7afbb70d8817",
   "metadata": {},
   "source": [
    "## CSE 425 - Python Practice"
   ]
  },
  {
   "cell_type": "code",
   "execution_count": 1,
   "id": "6d2f06d5-b5a8-4929-ae5a-72d27187b036",
   "metadata": {},
   "outputs": [
    {
     "data": {
      "text/plain": [
       "27"
      ]
     },
     "execution_count": 1,
     "metadata": {},
     "output_type": "execute_result"
    }
   ],
   "source": [
    "x = 7\n",
    "y = 20\n",
    "z = x + y\n",
    "z"
   ]
  },
  {
   "cell_type": "code",
   "execution_count": 2,
   "id": "9e46552c-f204-43c1-8e2b-48b0f7ae7095",
   "metadata": {},
   "outputs": [
    {
     "name": "stdout",
     "output_type": "stream",
     "text": [
      "<class 'int'>\n",
      "<class 'int'>\n",
      "<class 'int'>\n"
     ]
    }
   ],
   "source": [
    "print(type(x))\n",
    "print(type(y))\n",
    "print(type(z))"
   ]
  },
  {
   "cell_type": "code",
   "execution_count": 3,
   "id": "0b1be487-925b-44a3-a0db-97af0c873b7e",
   "metadata": {},
   "outputs": [
    {
     "name": "stdout",
     "output_type": "stream",
     "text": [
      "The sum of 7 and 20 is: 27\n"
     ]
    }
   ],
   "source": [
    "print(\"The sum of %d and %d is: %d\"%(x, y, z))"
   ]
  },
  {
   "cell_type": "code",
   "execution_count": 4,
   "id": "95f77827-7b52-4786-bff8-db37128bac4f",
   "metadata": {},
   "outputs": [
    {
     "name": "stdout",
     "output_type": "stream",
     "text": [
      "<class 'int'>\n",
      "<class 'str'>\n"
     ]
    }
   ],
   "source": [
    "x = 7\n",
    "print(type(x))\n",
    "x = \"Hello World\"\n",
    "print(type(x))"
   ]
  },
  {
   "cell_type": "code",
   "execution_count": 5,
   "id": "7281cf74-d789-4409-a1c7-0d47efaf8cef",
   "metadata": {},
   "outputs": [
    {
     "name": "stdout",
     "output_type": "stream",
     "text": [
      "11\n"
     ]
    }
   ],
   "source": [
    "x = 1.2\n",
    "x = \"Hello World\"\n",
    "print(len(x))"
   ]
  },
  {
   "cell_type": "code",
   "execution_count": 6,
   "id": "79f2c896-7a52-4bd3-9405-9b973408074b",
   "metadata": {},
   "outputs": [],
   "source": [
    "def sumation(a, b):\n",
    "    sum = a + b\n",
    "    return sum"
   ]
  },
  {
   "cell_type": "code",
   "execution_count": 7,
   "id": "f8699bf6-bdf6-45e9-9d04-5fe54f72c4ad",
   "metadata": {},
   "outputs": [
    {
     "data": {
      "text/plain": [
       "30"
      ]
     },
     "execution_count": 7,
     "metadata": {},
     "output_type": "execute_result"
    }
   ],
   "source": [
    "result = sumation(10, 20)\n",
    "result"
   ]
  },
  {
   "cell_type": "code",
   "execution_count": 8,
   "id": "3d787997-50d4-431d-b3b1-0a9d1dc884d6",
   "metadata": {},
   "outputs": [],
   "source": [
    "def square(a):\n",
    "    print(\"Square of %d is: %d\" %(a, (a*a)))"
   ]
  },
  {
   "cell_type": "code",
   "execution_count": 9,
   "id": "7d4bdb9d-051e-4352-85e8-ac8f67e56700",
   "metadata": {},
   "outputs": [
    {
     "name": "stdout",
     "output_type": "stream",
     "text": [
      "Square of 10 is: 100\n"
     ]
    }
   ],
   "source": [
    "square(10)"
   ]
  },
  {
   "cell_type": "code",
   "execution_count": 10,
   "id": "029a2c9d-7bf1-4d50-9f7d-29be6e654594",
   "metadata": {},
   "outputs": [],
   "source": [
    "def pos_or_neg(x):\n",
    "    if(x>0):\n",
    "        return 'Positive'\n",
    "    elif (x<0):\n",
    "        return 'Negative'\n",
    "    else:\n",
    "        return 'Zero'"
   ]
  },
  {
   "cell_type": "code",
   "execution_count": 11,
   "id": "32875cbd-3cdd-4c2e-96f7-03f21f0b79b3",
   "metadata": {},
   "outputs": [
    {
     "name": "stdout",
     "output_type": "stream",
     "text": [
      "Positive 5\n",
      "Positive 3\n",
      "Positive 1\n",
      "Negative -1\n"
     ]
    }
   ],
   "source": [
    "for i in range(5,-2, -2):\n",
    "    print(pos_or_neg(i), i)"
   ]
  },
  {
   "cell_type": "code",
   "execution_count": 12,
   "id": "4b05b27d-253c-4ccb-b772-06d379b89511",
   "metadata": {},
   "outputs": [
    {
     "data": {
      "text/plain": [
       "[2, 3]"
      ]
     },
     "execution_count": 12,
     "metadata": {},
     "output_type": "execute_result"
    }
   ],
   "source": [
    "list = [0, 1, 2, 3, 4, 5]\n",
    "\n",
    "list[2:4]"
   ]
  },
  {
   "cell_type": "code",
   "execution_count": 13,
   "id": "6077d4ac-baa2-4b1a-afdc-95bcc493476f",
   "metadata": {},
   "outputs": [
    {
     "data": {
      "image/png": "[encoded data removed]",
      "text/plain": [
       "<Figure size 640x480 with 1 Axes>"
      ]
     },
     "metadata": {},
     "output_type": "display_data"
    }
   ],
   "source": [
    "import matplotlib.pyplot as plt\n",
    "import numpy as np\n",
    "\n",
    "def fnc1(x):\n",
    "    return 5 - x * x * x\n",
    "def fnc2(x):\n",
    "    return 5 - (x - 0.5) * (x - 0.5) * (x - 0.5)\n",
    "\n",
    "\n",
    "x = np.linspace(-5,5,100)\n",
    "plt.plot(x,fnc1(x))\n",
    "plt.plot(x,fnc2(x))\n",
    "plt.xlabel(\"X\")\n",
    "plt.ylabel(\"Function value\")\n",
    "plt.legend([\"fnc1\",\"fnc2\"])\n",
    "plt.savefig(\"plot.png\")\n",
    "plt.show()"
   ]
  },
  {
   "cell_type": "code",
   "execution_count": 14,
   "id": "0dcec678-4f63-485c-8133-b965acedec57",
   "metadata": {},
   "outputs": [
    {
     "data": {
      "text/plain": [
       "10"
      ]
     },
     "execution_count": 14,
     "metadata": {},
     "output_type": "execute_result"
    }
   ],
   "source": [
    "count = 0\n",
    "i = 0\n",
    "while (i < 5):\n",
    "    count = count + i\n",
    "    i = i + 1\n",
    "\n",
    "count"
   ]
  },
  {
   "cell_type": "code",
   "execution_count": 15,
   "id": "5499fbc0-cd4b-4f61-a9d7-3b03adb8b0e8",
   "metadata": {},
   "outputs": [
    {
     "ename": "KeyboardInterrupt",
     "evalue": "Interrupted by user",
     "output_type": "error",
     "traceback": [
      "\u001b[1;31m---------------------------------------------------------------------------\u001b[0m",
      "\u001b[1;31mKeyboardInterrupt\u001b[0m                         Traceback (most recent call last)",
      "Cell \u001b[1;32mIn[15], line 1\u001b[0m\n\u001b[1;32m----> 1\u001b[0m x \u001b[38;5;241m=\u001b[39m \u001b[38;5;28;43minput\u001b[39;49m\u001b[43m(\u001b[49m\u001b[43m)\u001b[49m\n\u001b[0;32m      2\u001b[0m x\n",
      "File \u001b[1;32m~\\AppData\\Local\\Programs\\Python\\Python312\\Lib\\site-packages\\ipykernel\\kernelbase.py:1282\u001b[0m, in \u001b[0;36mKernel.raw_input\u001b[1;34m(self, prompt)\u001b[0m\n\u001b[0;32m   1280\u001b[0m     msg \u001b[38;5;241m=\u001b[39m \u001b[38;5;124m\"\u001b[39m\u001b[38;5;124mraw_input was called, but this frontend does not support input requests.\u001b[39m\u001b[38;5;124m\"\u001b[39m\n\u001b[0;32m   1281\u001b[0m     \u001b[38;5;28;01mraise\u001b[39;00m StdinNotImplementedError(msg)\n\u001b[1;32m-> 1282\u001b[0m \u001b[38;5;28;01mreturn\u001b[39;00m \u001b[38;5;28;43mself\u001b[39;49m\u001b[38;5;241;43m.\u001b[39;49m\u001b[43m_input_request\u001b[49m\u001b[43m(\u001b[49m\n\u001b[0;32m   1283\u001b[0m \u001b[43m    \u001b[49m\u001b[38;5;28;43mstr\u001b[39;49m\u001b[43m(\u001b[49m\u001b[43mprompt\u001b[49m\u001b[43m)\u001b[49m\u001b[43m,\u001b[49m\n\u001b[0;32m   1284\u001b[0m \u001b[43m    \u001b[49m\u001b[38;5;28;43mself\u001b[39;49m\u001b[38;5;241;43m.\u001b[39;49m\u001b[43m_parent_ident\u001b[49m\u001b[43m[\u001b[49m\u001b[38;5;124;43m\"\u001b[39;49m\u001b[38;5;124;43mshell\u001b[39;49m\u001b[38;5;124;43m\"\u001b[39;49m\u001b[43m]\u001b[49m\u001b[43m,\u001b[49m\n\u001b[0;32m   1285\u001b[0m \u001b[43m    \u001b[49m\u001b[38;5;28;43mself\u001b[39;49m\u001b[38;5;241;43m.\u001b[39;49m\u001b[43mget_parent\u001b[49m\u001b[43m(\u001b[49m\u001b[38;5;124;43m\"\u001b[39;49m\u001b[38;5;124;43mshell\u001b[39;49m\u001b[38;5;124;43m\"\u001b[39;49m\u001b[43m)\u001b[49m\u001b[43m,\u001b[49m\n\u001b[0;32m   1286\u001b[0m \u001b[43m    \u001b[49m\u001b[43mpassword\u001b[49m\u001b[38;5;241;43m=\u001b[39;49m\u001b[38;5;28;43;01mFalse\u001b[39;49;00m\u001b[43m,\u001b[49m\n\u001b[0;32m   1287\u001b[0m \u001b[43m\u001b[49m\u001b[43m)\u001b[49m\n",
      "File \u001b[1;32m~\\AppData\\Local\\Programs\\Python\\Python312\\Lib\\site-packages\\ipykernel\\kernelbase.py:1325\u001b[0m, in \u001b[0;36mKernel._input_request\u001b[1;34m(self, prompt, ident, parent, password)\u001b[0m\n\u001b[0;32m   1322\u001b[0m \u001b[38;5;28;01mexcept\u001b[39;00m \u001b[38;5;167;01mKeyboardInterrupt\u001b[39;00m:\n\u001b[0;32m   1323\u001b[0m     \u001b[38;5;66;03m# re-raise KeyboardInterrupt, to truncate traceback\u001b[39;00m\n\u001b[0;32m   1324\u001b[0m     msg \u001b[38;5;241m=\u001b[39m \u001b[38;5;124m\"\u001b[39m\u001b[38;5;124mInterrupted by user\u001b[39m\u001b[38;5;124m\"\u001b[39m\n\u001b[1;32m-> 1325\u001b[0m     \u001b[38;5;28;01mraise\u001b[39;00m \u001b[38;5;167;01mKeyboardInterrupt\u001b[39;00m(msg) \u001b[38;5;28;01mfrom\u001b[39;00m \u001b[38;5;28;01mNone\u001b[39;00m\n\u001b[0;32m   1326\u001b[0m \u001b[38;5;28;01mexcept\u001b[39;00m \u001b[38;5;167;01mException\u001b[39;00m:\n\u001b[0;32m   1327\u001b[0m     \u001b[38;5;28mself\u001b[39m\u001b[38;5;241m.\u001b[39mlog\u001b[38;5;241m.\u001b[39mwarning(\u001b[38;5;124m\"\u001b[39m\u001b[38;5;124mInvalid Message:\u001b[39m\u001b[38;5;124m\"\u001b[39m, exc_info\u001b[38;5;241m=\u001b[39m\u001b[38;5;28;01mTrue\u001b[39;00m)\n",
      "\u001b[1;31mKeyboardInterrupt\u001b[0m: Interrupted by user"
     ]
    }
   ],
   "source": [
    "x = input()\n",
    "x"
   ]
  },
  {
   "cell_type": "code",
   "execution_count": null,
   "id": "d825a287-d236-4968-a72d-56a6e21fc5a9",
   "metadata": {},
   "outputs": [],
   "source": [
    "def grade(score):\n",
    "    if score >= 93:\n",
    "        return \"A\"\n",
    "    elif score >= 90:\n",
    "        return \"A-\"\n",
    "    elif score >= 87:\n",
    "        return \"B+\"\n",
    "    elif score >= 84:\n",
    "        return \"B\"\n",
    "    else:\n",
    "        return \"Fail\""
   ]
  },
  {
   "cell_type": "code",
   "execution_count": null,
   "id": "974ef139-bfde-4ddd-94cd-59dfd1d63410",
   "metadata": {},
   "outputs": [],
   "source": [
    "print(\"Enter your score: \")\n",
    "x = input()\n",
    "x = int(x)\n",
    "print(grade(x))"
   ]
  },
  {
   "cell_type": "markdown",
   "id": "a5d61d82-c824-414f-8489-cab52684657b",
   "metadata": {},
   "source": [
    "## Lecture - 25"
   ]
  },
  {
   "cell_type": "code",
   "execution_count": 16,
   "id": "7cc320b4-8b0e-4a63-a39b-43371c6ae6f9",
   "metadata": {},
   "outputs": [
    {
     "data": {
      "text/plain": [
       "[1, 2, 3, 4, 5, 6]"
      ]
     },
     "execution_count": 16,
     "metadata": {},
     "output_type": "execute_result"
    }
   ],
   "source": [
    "list = [1, 2, 3, 4, 5, 6]\n",
    "list"
   ]
  },
  {
   "cell_type": "code",
   "execution_count": 21,
   "id": "48b9c5ad-bfc3-41e6-b9b8-dd3d816defcc",
   "metadata": {},
   "outputs": [
    {
     "data": {
      "text/plain": [
       "[2, 4]"
      ]
     },
     "execution_count": 21,
     "metadata": {},
     "output_type": "execute_result"
    }
   ],
   "source": [
    "list[1:5:2]"
   ]
  },
  {
   "cell_type": "code",
   "execution_count": 22,
   "id": "8a3f5bcf-448f-48a9-9a59-3ddd71799589",
   "metadata": {},
   "outputs": [
    {
     "data": {
      "text/plain": [
       "['a', 'b', 'c', 'd']"
      ]
     },
     "execution_count": 22,
     "metadata": {},
     "output_type": "execute_result"
    }
   ],
   "source": [
    "list = ['a', 'b', 'c', 'd']\n",
    "list"
   ]
  },
  {
   "cell_type": "code",
   "execution_count": 37,
   "id": "2331e337-7beb-4d7f-8f58-cf750c5ae993",
   "metadata": {},
   "outputs": [
    {
     "data": {
      "text/plain": [
       "[1, 2, 3, 'z', 'b', 'c']"
      ]
     },
     "execution_count": 37,
     "metadata": {},
     "output_type": "execute_result"
    }
   ],
   "source": [
    "list = [1, 2, 3, 4, 'a', 'b', 'c']\n",
    "list[3:5] = 'z'\n",
    "list"
   ]
  },
  {
   "cell_type": "code",
   "execution_count": 25,
   "id": "08d76aad-a326-4328-9fc2-7ad9cb21ec13",
   "metadata": {},
   "outputs": [],
   "source": [
    "list.append(4)"
   ]
  },
  {
   "cell_type": "code",
   "execution_count": 26,
   "id": "c5675473-6332-4da9-9a64-16ce9490e000",
   "metadata": {},
   "outputs": [
    {
     "data": {
      "text/plain": [
       "[1, 2, 3, 4, 'a', 'b', 'c', 4]"
      ]
     },
     "execution_count": 26,
     "metadata": {},
     "output_type": "execute_result"
    }
   ],
   "source": [
    "list"
   ]
  },
  {
   "cell_type": "code",
   "execution_count": 27,
   "id": "cc130c34-89e4-4a3e-8cb0-a15a51f43a78",
   "metadata": {},
   "outputs": [
    {
     "data": {
      "text/plain": [
       "'b'"
      ]
     },
     "execution_count": 27,
     "metadata": {},
     "output_type": "execute_result"
    }
   ],
   "source": [
    "list.pop(5)"
   ]
  },
  {
   "cell_type": "code",
   "execution_count": 29,
   "id": "28c819f4-7dc5-46bd-932a-1518a84a15b8",
   "metadata": {},
   "outputs": [
    {
     "data": {
      "text/plain": [
       "[0, 1, 0, 1, 0, 1, 0, 1]"
      ]
     },
     "execution_count": 29,
     "metadata": {},
     "output_type": "execute_result"
    }
   ],
   "source": [
    "list = 4 * [0, 1]\n",
    "list"
   ]
  },
  {
   "cell_type": "code",
   "execution_count": 41,
   "id": "cc2465d3-6bf1-4e02-b8ed-eea5c50afffe",
   "metadata": {},
   "outputs": [
    {
     "data": {
      "text/plain": [
       "[1, 2, 3, 4, 5]"
      ]
     },
     "execution_count": 41,
     "metadata": {},
     "output_type": "execute_result"
    }
   ],
   "source": [
    "list = [1, 2, 3, 4, 5]\n",
    "list_2 = list.copy()\n",
    "list_2"
   ]
  },
  {
   "cell_type": "code",
   "execution_count": 42,
   "id": "c05c5153-18e6-4341-9e4a-f6fdebc4cb98",
   "metadata": {},
   "outputs": [
    {
     "data": {
      "text/plain": [
       "[1, 2, 3, 4, 5]"
      ]
     },
     "execution_count": 42,
     "metadata": {},
     "output_type": "execute_result"
    }
   ],
   "source": [
    "list.append(8)\n",
    "list_2"
   ]
  },
  {
   "cell_type": "code",
   "execution_count": 43,
   "id": "83e2245b-c349-4d01-a703-8677336ab18a",
   "metadata": {},
   "outputs": [
    {
     "data": {
      "text/plain": [
       "[1, 2, 3, 4, 5, 8]"
      ]
     },
     "execution_count": 43,
     "metadata": {},
     "output_type": "execute_result"
    }
   ],
   "source": [
    "list_2.append(10)\n",
    "list"
   ]
  },
  {
   "cell_type": "code",
   "execution_count": 44,
   "id": "3e0127cf-9d7d-4482-bfb2-df5af7e0f7f4",
   "metadata": {},
   "outputs": [
    {
     "data": {
      "text/plain": [
       "[1, 2, 3, 4, 5, 10]"
      ]
     },
     "execution_count": 44,
     "metadata": {},
     "output_type": "execute_result"
    }
   ],
   "source": [
    "list_2"
   ]
  },
  {
   "cell_type": "code",
   "execution_count": 48,
   "id": "6126c6cb-49ec-49ef-b298-89bee322f226",
   "metadata": {},
   "outputs": [
    {
     "data": {
      "text/plain": [
       "4"
      ]
     },
     "execution_count": 48,
     "metadata": {},
     "output_type": "execute_result"
    }
   ],
   "source": [
    "list = [1, 2, 3, 4, 5, 6, 7, 8]\n",
    "list_2 = list[1:5]\n",
    "len(list_2)"
   ]
  },
  {
   "cell_type": "code",
   "execution_count": 49,
   "id": "f13597e9-07ef-41ae-a0dc-8de74df08976",
   "metadata": {},
   "outputs": [
    {
     "data": {
      "text/plain": [
       "[[1, 2], [3, 4], [5, 6]]"
      ]
     },
     "execution_count": 49,
     "metadata": {},
     "output_type": "execute_result"
    }
   ],
   "source": [
    "nested_list = [[1, 2], [3, 4], [5, 6]]\n",
    "nested_list"
   ]
  },
  {
   "cell_type": "code",
   "execution_count": 52,
   "id": "dcdd1b8a-a64d-4833-8dc2-b0396635aec1",
   "metadata": {},
   "outputs": [
    {
     "data": {
      "text/plain": [
       "[1, 2]"
      ]
     },
     "execution_count": 52,
     "metadata": {},
     "output_type": "execute_result"
    }
   ],
   "source": [
    "nested_list[0]"
   ]
  },
  {
   "cell_type": "code",
   "execution_count": 54,
   "id": "316a4ae1-6f5d-460a-aaec-79b06c041107",
   "metadata": {},
   "outputs": [
    {
     "data": {
      "text/plain": [
       "2"
      ]
     },
     "execution_count": 54,
     "metadata": {},
     "output_type": "execute_result"
    }
   ],
   "source": [
    "nested_list[0][1]"
   ]
  },
  {
   "cell_type": "markdown",
   "id": "8de073e4-2b08-4454-88ac-c6399b7d755a",
   "metadata": {},
   "source": [
    "## List Comprehension"
   ]
  },
  {
   "cell_type": "code",
   "execution_count": 57,
   "id": "ae79e9dd-9f7b-4695-9687-dcc05e69cda1",
   "metadata": {},
   "outputs": [
    {
     "data": {
      "text/plain": [
       "[0, 9, 36, 81]"
      ]
     },
     "execution_count": 57,
     "metadata": {},
     "output_type": "execute_result"
    }
   ],
   "source": [
    "[(x * x) for x in range(12) if (x % 3 == 0)]"
   ]
  },
  {
   "cell_type": "code",
   "execution_count": 62,
   "id": "0235c7ba-f116-4f36-9c00-6094a62b4f0b",
   "metadata": {},
   "outputs": [
    {
     "data": {
      "text/plain": [
       "(1, 2, 3, 4, 5, [])"
      ]
     },
     "execution_count": 62,
     "metadata": {},
     "output_type": "execute_result"
    }
   ],
   "source": [
    "tuple = (1, 2, 3, 4, 5, [])\n",
    "tuple"
   ]
  },
  {
   "cell_type": "code",
   "execution_count": 65,
   "id": "258de3ca-a5df-48ff-9649-b5b4bec94aed",
   "metadata": {},
   "outputs": [
    {
     "data": {
      "text/plain": [
       "(1, 2, 3, 4, 5, [10, 10])"
      ]
     },
     "execution_count": 65,
     "metadata": {},
     "output_type": "execute_result"
    }
   ],
   "source": [
    "tuple[5].append(10)\n",
    "tuple"
   ]
  },
  {
   "cell_type": "code",
   "execution_count": 82,
   "id": "8616fae6-bc0b-40a8-89a7-c6513485c149",
   "metadata": {},
   "outputs": [],
   "source": [
    "def quotient_remainder_tuple(x, y):\n",
    "    quot = x // y\n",
    "    rem = x % y\n",
    "    return rem"
   ]
  },
  {
   "cell_type": "code",
   "execution_count": 83,
   "id": "205693a8-4cbe-4df3-9203-637b562b33f3",
   "metadata": {},
   "outputs": [
    {
     "name": "stdout",
     "output_type": "stream",
     "text": [
      "1\n"
     ]
    }
   ],
   "source": [
    "print(quotient_remainder_tuple(10, 3))"
   ]
  },
  {
   "cell_type": "code",
   "execution_count": 85,
   "id": "ba367400-266a-4f1b-a0c5-a4cec9a5120e",
   "metadata": {},
   "outputs": [],
   "source": [
    "def square(x):\n",
    "    return x * x"
   ]
  },
  {
   "cell_type": "code",
   "execution_count": 94,
   "id": "8ade1fe9-d50d-4f31-893b-8423d249d393",
   "metadata": {},
   "outputs": [
    {
     "data": {
      "text/plain": [
       "[9, 36]"
      ]
     },
     "execution_count": 94,
     "metadata": {},
     "output_type": "execute_result"
    }
   ],
   "source": [
    "list = [1, 2, 3, 4, 5, 6]\n",
    "\n",
    "[x*x for x in list if (x % 3 == 0)]"
   ]
  },
  {
   "cell_type": "code",
   "execution_count": 88,
   "id": "c709d35f-aecc-4d8a-8070-03e49db4199c",
   "metadata": {},
   "outputs": [
    {
     "data": {
      "text/plain": [
       "{1, 2, 3, 4, 5}"
      ]
     },
     "execution_count": 88,
     "metadata": {},
     "output_type": "execute_result"
    }
   ],
   "source": [
    "set_1 = {1, 2, 3, 4, 5}\n",
    "set_1"
   ]
  },
  {
   "cell_type": "code",
   "execution_count": 97,
   "id": "3a880de4-9645-4b54-8561-1b1f043bbc44",
   "metadata": {},
   "outputs": [],
   "source": [
    "dict = {\n",
    "    'name' : \"name00\",\n",
    "    'course' : \"CSE425\"\n",
    "}"
   ]
  },
  {
   "cell_type": "code",
   "execution_count": 101,
   "id": "983395af-697a-4866-bbdb-69c8c9af00a9",
   "metadata": {},
   "outputs": [
    {
     "data": {
      "text/plain": [
       "'name00'"
      ]
     },
     "execution_count": 101,
     "metadata": {},
     "output_type": "execute_result"
    }
   ],
   "source": [
    "dict[\"name\"]"
   ]
  },
  {
   "cell_type": "code",
   "execution_count": null,
   "id": "9dadeab3-5263-463a-a112-fbe2de28a562",
   "metadata": {},
   "outputs": [],
   "source": []
  }
 ],
 "metadata": {
  "kernelspec": {
   "display_name": "Python 3 (ipykernel)",
   "language": "python",
   "name": "python3"
  },
  "language_info": {
   "codemirror_mode": {
    "name": "ipython",
    "version": 3
   },
   "file_extension": ".py",
   "mimetype": "text/x-python",
   "name": "python",
   "nbconvert_exporter": "python",
   "pygments_lexer": "ipython3",
   "version": "3.12.7"
  }
 },
 "nbformat": 4,
 "nbformat_minor": 5
}
