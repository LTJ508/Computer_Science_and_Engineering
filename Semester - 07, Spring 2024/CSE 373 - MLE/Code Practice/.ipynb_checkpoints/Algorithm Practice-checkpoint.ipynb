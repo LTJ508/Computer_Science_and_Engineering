{
 "cells": [
  {
   "cell_type": "markdown",
   "id": "6290d3c7-2735-4b96-9f83-ff4de24ab75b",
   "metadata": {},
   "source": [
    "# <font color=\"red\">Algorithm Practice</font>"
   ]
  },
  {
   "cell_type": "code",
   "execution_count": 3,
   "id": "f59eea1e-ff13-4f32-be77-81f1727c5b34",
   "metadata": {},
   "outputs": [
    {
     "name": "stdout",
     "output_type": "stream",
     "text": [
      "[31, 50, 69, 99, 13, 67, 93, 81, 46, 86]\n"
     ]
    }
   ],
   "source": [
    "import random\n",
    "\n",
    "# Generate a list of 10 random two-digit numbers\n",
    "random_numbers = [random.randint(10, 99) for _ in range(10)]\n",
    "\n",
    "print(random_numbers)"
   ]
  },
  {
   "cell_type": "markdown",
   "id": "746575f5-d4ea-4229-9abf-d30cbf8207c8",
   "metadata": {},
   "source": [
    "# <font color=\"red\">Insertion Sort</font>"
   ]
  },
  {
   "cell_type": "code",
   "execution_count": null,
   "id": "9939e79f-2ef7-4b4e-83c1-79c4e558db0a",
   "metadata": {},
   "outputs": [],
   "source": []
  }
 ],
 "metadata": {
  "kernelspec": {
   "display_name": "Python 3 (ipykernel)",
   "language": "python",
   "name": "python3"
  },
  "language_info": {
   "codemirror_mode": {
    "name": "ipython",
    "version": 3
   },
   "file_extension": ".py",
   "mimetype": "text/x-python",
   "name": "python",
   "nbconvert_exporter": "python",
   "pygments_lexer": "ipython3",
   "version": "3.12.1"
  }
 },
 "nbformat": 4,
 "nbformat_minor": 5
}
