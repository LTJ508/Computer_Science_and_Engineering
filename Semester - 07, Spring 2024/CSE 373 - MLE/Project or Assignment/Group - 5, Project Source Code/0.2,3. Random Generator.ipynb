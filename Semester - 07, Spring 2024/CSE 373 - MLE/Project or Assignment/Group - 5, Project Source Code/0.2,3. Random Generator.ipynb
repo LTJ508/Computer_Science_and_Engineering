{
 "cells": [
  {
   "cell_type": "markdown",
   "id": "6290d3c7-2735-4b96-9f83-ff4de24ab75b",
   "metadata": {},
   "source": [
    "# <font color=\"red\">Random Coin Set and Sum Generator</font>"
   ]
  },
  {
   "cell_type": "markdown",
   "id": "071e5094-2fa6-43e8-8903-777682a9f5b2",
   "metadata": {},
   "source": [
    "### Importing Library"
   ]
  },
  {
   "cell_type": "code",
   "execution_count": 1,
   "id": "a4f686e9-9fa4-42da-9b95-20a5c6ff2a0d",
   "metadata": {},
   "outputs": [],
   "source": [
    "#importing library\n",
    "import random #for random number\n",
    "import pyperclip #for copy to clipboard"
   ]
  },
  {
   "cell_type": "markdown",
   "id": "021a246d-d29d-4e6c-afbe-e28631a43a2d",
   "metadata": {},
   "source": [
    "## <font color=\"red\">Generating Random Sum Value</font>"
   ]
  },
  {
   "cell_type": "code",
   "execution_count": 2,
   "id": "5bc4379d-0ae7-46e8-a818-48487af16233",
   "metadata": {},
   "outputs": [],
   "source": [
    "#some variable for adjustment of Function\n",
    "totalRandomSum = 10\n",
    "minimumSum = 100000\n",
    "maximumSum = 1000000"
   ]
  },
  {
   "cell_type": "code",
   "execution_count": 3,
   "id": "f59eea1e-ff13-4f32-be77-81f1727c5b34",
   "metadata": {},
   "outputs": [
    {
     "name": "stdout",
     "output_type": "stream",
     "text": [
      "random_sum = [148379, 203158, 363103, 457966, 472585, 663706, 741838, 910374, 950201, 978368]\n",
      "\n",
      "Random Sum sets have been copied to the clipboard.\n"
     ]
    }
   ],
   "source": [
    "# Generate a list of 10 random numbers\n",
    "random_sum = random.sample(range(minimumSum, maximumSum + 1), totalRandomSum)\n",
    "random_sum.sort()  # Sort the list\n",
    "\n",
    "print(\"random_sum =\", random_sum) #printing the set\n",
    "\n",
    "#this part for copy the random numbers in clipboard as a formate that we can easliy use in other notebook\n",
    "formatted_random_sum = \"random_sum = \" + str(random_sum)\n",
    "pyperclip.copy(formatted_random_sum)\n",
    "print(\"\\nRandom Sum sets have been copied to the clipboard.\")"
   ]
  },
  {
   "cell_type": "markdown",
   "id": "a393cef3-bbd0-4dad-b08f-db3450a712a0",
   "metadata": {},
   "source": [
    "## <font color=\"red\">Generating Random Coin Set Value</font>"
   ]
  },
  {
   "cell_type": "code",
   "execution_count": 4,
   "id": "11005478-5720-4305-8fdc-51e43c457b80",
   "metadata": {},
   "outputs": [],
   "source": [
    "#some variable for adjustment of Function\n",
    "num_sets = 10\n",
    "min_value = 1\n",
    "max_value = 1000\n",
    "min_coins = 10\n",
    "max_coins = 100"
   ]
  },
  {
   "cell_type": "code",
   "execution_count": 5,
   "id": "8b916c96-f552-4aab-aed0-03b73a2a4ad7",
   "metadata": {},
   "outputs": [
    {
     "data": {
      "text/plain": [
       "[15, 19, 21, 30, 35, 58, 72, 82, 93, 97]"
      ]
     },
     "execution_count": 5,
     "metadata": {},
     "output_type": "execute_result"
    }
   ],
   "source": [
    "num_coins = random.sample(range(min_coins, max_coins + 1), num_sets)\n",
    "num_coins.sort()  # Sort the list\n",
    "num_coins"
   ]
  },
  {
   "cell_type": "code",
   "execution_count": 6,
   "id": "39432333-215f-464c-8b4e-2f205ec1f0bf",
   "metadata": {},
   "outputs": [],
   "source": [
    "#Function for generate\n",
    "def generate_random_coin_sets(num_sets, min_value, max_value, min_coins, max_coins):\n",
    "    global num_coins\n",
    "    coin_sets = []\n",
    "    for i in range(num_sets):\n",
    "        coins = random.sample(range(min_value, max_value + 1), num_coins[i])\n",
    "        coin_sets.append(sorted(coins))\n",
    "    return coin_sets"
   ]
  },
  {
   "cell_type": "code",
   "execution_count": 7,
   "id": "db1a0293-71d0-40d3-acee-d4f6568bffe3",
   "metadata": {},
   "outputs": [
    {
     "name": "stdout",
     "output_type": "stream",
     "text": [
      "Coin Set 1 (15 coins): [37, 47, 218, 231, 349, 367, 429, 452, 457, 536, 539, 708, 828, 871, 1000]\n",
      "Coin Set 2 (19 coins): [68, 114, 123, 171, 199, 255, 295, 537, 553, 627, 631, 659, 661, 687, 866, 913, 929, 945, 966]\n",
      "Coin Set 3 (21 coins): [11, 82, 119, 296, 332, 339, 348, 388, 404, 421, 436, 447, 472, 486, 543, 561, 570, 818, 845, 891, 991]\n",
      "Coin Set 4 (30 coins): [25, 56, 84, 223, 341, 375, 401, 410, 452, 464, 514, 517, 520, 535, 559, 596, 720, 760, 785, 814, 829, 831, 857, 866, 893, 895, 912, 933, 953, 993]\n",
      "Coin Set 5 (35 coins): [2, 10, 38, 59, 61, 63, 121, 160, 162, 166, 202, 205, 237, 263, 290, 313, 401, 402, 414, 459, 512, 576, 584, 614, 642, 648, 650, 671, 686, 689, 779, 798, 811, 870, 990]\n",
      "Coin Set 6 (58 coins): [46, 71, 102, 103, 109, 140, 143, 172, 174, 178, 203, 218, 264, 266, 286, 287, 293, 343, 378, 384, 404, 455, 464, 467, 482, 493, 497, 498, 507, 525, 539, 550, 586, 602, 603, 606, 664, 679, 683, 694, 714, 751, 754, 810, 813, 814, 815, 865, 895, 899, 912, 919, 936, 953, 967, 970, 991, 995]\n",
      "Coin Set 7 (72 coins): [3, 16, 21, 39, 47, 50, 86, 89, 104, 110, 129, 135, 166, 184, 217, 227, 253, 256, 264, 296, 313, 324, 351, 354, 360, 361, 382, 395, 468, 479, 481, 483, 488, 496, 498, 509, 527, 537, 562, 571, 582, 583, 599, 610, 641, 642, 644, 649, 669, 671, 682, 725, 734, 745, 782, 816, 834, 847, 862, 892, 896, 898, 904, 914, 917, 935, 937, 941, 949, 987, 989, 998]\n",
      "Coin Set 8 (82 coins): [8, 12, 32, 40, 42, 46, 53, 65, 80, 83, 116, 118, 119, 150, 151, 158, 174, 175, 196, 198, 222, 225, 235, 238, 239, 256, 287, 296, 299, 300, 302, 308, 333, 347, 374, 381, 397, 403, 415, 433, 445, 482, 492, 495, 511, 512, 553, 564, 579, 583, 597, 600, 603, 659, 683, 686, 691, 697, 707, 711, 725, 730, 736, 750, 776, 778, 789, 830, 835, 836, 841, 853, 867, 868, 883, 893, 935, 971, 978, 990, 996, 998]\n",
      "Coin Set 9 (93 coins): [1, 13, 15, 20, 21, 35, 55, 56, 74, 96, 112, 162, 170, 181, 186, 198, 200, 201, 211, 213, 216, 218, 233, 240, 249, 268, 276, 279, 295, 298, 299, 312, 322, 335, 337, 344, 347, 356, 371, 399, 407, 408, 412, 422, 432, 434, 448, 460, 468, 484, 489, 494, 524, 532, 537, 553, 556, 559, 562, 566, 583, 593, 599, 613, 624, 634, 639, 667, 680, 682, 688, 691, 701, 705, 721, 732, 748, 767, 808, 811, 812, 821, 850, 862, 868, 872, 889, 894, 901, 921, 934, 966, 1000]\n",
      "Coin Set 10 (97 coins): [16, 19, 47, 61, 76, 78, 108, 121, 129, 143, 146, 155, 162, 164, 170, 180, 181, 182, 186, 227, 230, 236, 241, 243, 244, 258, 276, 282, 283, 284, 287, 293, 307, 334, 355, 378, 384, 386, 389, 395, 416, 439, 450, 454, 461, 473, 477, 480, 489, 498, 505, 518, 527, 550, 555, 563, 567, 577, 585, 599, 610, 616, 625, 626, 646, 663, 666, 692, 693, 708, 715, 724, 727, 729, 743, 744, 748, 750, 768, 790, 806, 823, 833, 840, 850, 854, 855, 874, 887, 892, 913, 924, 953, 968, 981, 994, 995]\n",
      "\n",
      "Coin sets have been copied to the clipboard.\n"
     ]
    }
   ],
   "source": [
    "#calling the function\n",
    "random_coin_sets = generate_random_coin_sets(num_sets, min_value, max_value, min_coins, max_coins)\n",
    "\n",
    "#sorting the coinset according to there number of coin in a coin set\n",
    "random_coin_sets.sort(key=len)\n",
    "\n",
    "#for printing all the coinset\n",
    "for i, coin_set in enumerate(random_coin_sets):\n",
    "    print(f\"Coin Set {i + 1} ({len(coin_set)} coins): {coin_set}\")\n",
    "\n",
    "#this part for copy the random coinset in clipboard as a formate that we can easliy use in other notebook\n",
    "formatted_coin_sets = \"CoinSet = \" + str(random_coin_sets)\n",
    "pyperclip.copy(formatted_coin_sets)\n",
    "print(\"\\nCoin sets have been copied to the clipboard.\")"
   ]
  },
  {
   "cell_type": "markdown",
   "id": "e06c19d3-b534-4778-92ec-a66999c90bf7",
   "metadata": {},
   "source": [
    "# <center><font size=\"50\" color=\"red\">Thank You</font></center>"
   ]
  },
  {
   "cell_type": "code",
   "execution_count": null,
   "id": "a8a80118-ebf6-42a0-8137-7851f69492e4",
   "metadata": {},
   "outputs": [],
   "source": []
  }
 ],
 "metadata": {
  "kernelspec": {
   "display_name": "Python 3 (ipykernel)",
   "language": "python",
   "name": "python3"
  },
  "language_info": {
   "codemirror_mode": {
    "name": "ipython",
    "version": 3
   },
   "file_extension": ".py",
   "mimetype": "text/x-python",
   "name": "python",
   "nbconvert_exporter": "python",
   "pygments_lexer": "ipython3",
   "version": "3.12.3"
  }
 },
 "nbformat": 4,
 "nbformat_minor": 5
}
