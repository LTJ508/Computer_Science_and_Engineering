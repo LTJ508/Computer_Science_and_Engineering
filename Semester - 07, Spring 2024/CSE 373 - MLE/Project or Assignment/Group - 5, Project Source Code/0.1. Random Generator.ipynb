{
 "cells": [
  {
   "cell_type": "markdown",
   "id": "6290d3c7-2735-4b96-9f83-ff4de24ab75b",
   "metadata": {},
   "source": [
    "# <font color=\"red\">Random Coin Set and Sum Generator</font>"
   ]
  },
  {
   "cell_type": "markdown",
   "id": "071e5094-2fa6-43e8-8903-777682a9f5b2",
   "metadata": {},
   "source": [
    "### Importing Library"
   ]
  },
  {
   "cell_type": "code",
   "execution_count": 1,
   "id": "a4f686e9-9fa4-42da-9b95-20a5c6ff2a0d",
   "metadata": {},
   "outputs": [],
   "source": [
    "#importing library\n",
    "import random #for random number\n",
    "import pyperclip #for copy to clipboard"
   ]
  },
  {
   "cell_type": "markdown",
   "id": "021a246d-d29d-4e6c-afbe-e28631a43a2d",
   "metadata": {},
   "source": [
    "## <font color=\"red\">Generating Random Sum Value</font>"
   ]
  },
  {
   "cell_type": "code",
   "execution_count": 2,
   "id": "5bc4379d-0ae7-46e8-a818-48487af16233",
   "metadata": {},
   "outputs": [],
   "source": [
    "#some variable for adjustment of Function\n",
    "totalRandomSum = 10\n",
    "minimumSum = 10\n",
    "maximumSum = 1000"
   ]
  },
  {
   "cell_type": "code",
   "execution_count": 3,
   "id": "f59eea1e-ff13-4f32-be77-81f1727c5b34",
   "metadata": {},
   "outputs": [
    {
     "name": "stdout",
     "output_type": "stream",
     "text": [
      "random_sum = [150, 270, 351, 370, 385, 431, 510, 875, 931, 987]\n",
      "\n",
      "Random Sum sets have been copied to the clipboard.\n"
     ]
    }
   ],
   "source": [
    "# Generate a list of 10 random numbers\n",
    "random_sum = random.sample(range(minimumSum, maximumSum + 1), totalRandomSum)\n",
    "random_sum.sort()  # Sort the list\n",
    "\n",
    "print(\"random_sum =\", random_sum) #printing the set\n",
    "\n",
    "#this part for copy the random numbers in clipboard as a formate that we can easliy use in other notebook\n",
    "formatted_random_sum = \"random_sum = \" + str(random_sum)\n",
    "pyperclip.copy(formatted_random_sum)\n",
    "print(\"\\nRandom Sum sets have been copied to the clipboard.\")"
   ]
  },
  {
   "cell_type": "markdown",
   "id": "a393cef3-bbd0-4dad-b08f-db3450a712a0",
   "metadata": {},
   "source": [
    "## <font color=\"red\">Generating Random Coin Set Value</font>"
   ]
  },
  {
   "cell_type": "code",
   "execution_count": 4,
   "id": "11005478-5720-4305-8fdc-51e43c457b80",
   "metadata": {},
   "outputs": [],
   "source": [
    "#some variable for adjustment of Function\n",
    "num_sets = 10\n",
    "min_value = 1\n",
    "max_value = 100\n",
    "min_coins = 3\n",
    "max_coins = 12"
   ]
  },
  {
   "cell_type": "code",
   "execution_count": 5,
   "id": "8b916c96-f552-4aab-aed0-03b73a2a4ad7",
   "metadata": {},
   "outputs": [
    {
     "data": {
      "text/plain": [
       "[3, 4, 5, 6, 7, 8, 9, 10, 11, 12]"
      ]
     },
     "execution_count": 5,
     "metadata": {},
     "output_type": "execute_result"
    }
   ],
   "source": [
    "num_coins = random.sample(range(min_coins, max_coins + 1), num_sets)\n",
    "num_coins.sort()  # Sort the list\n",
    "num_coins"
   ]
  },
  {
   "cell_type": "code",
   "execution_count": 6,
   "id": "39432333-215f-464c-8b4e-2f205ec1f0bf",
   "metadata": {},
   "outputs": [],
   "source": [
    "#Function for generate\n",
    "def generate_random_coin_sets(num_sets, min_value, max_value, min_coins, max_coins):\n",
    "    global num_coins\n",
    "    coin_sets = []\n",
    "    for i in range(num_sets):\n",
    "        coins = random.sample(range(min_value, max_value + 1), num_coins[i])\n",
    "        coin_sets.append(sorted(coins))\n",
    "    return coin_sets"
   ]
  },
  {
   "cell_type": "code",
   "execution_count": 7,
   "id": "db1a0293-71d0-40d3-acee-d4f6568bffe3",
   "metadata": {},
   "outputs": [
    {
     "name": "stdout",
     "output_type": "stream",
     "text": [
      "Coin Set 1 (3 coins): [37, 51, 73]\n",
      "Coin Set 2 (4 coins): [54, 73, 80, 93]\n",
      "Coin Set 3 (5 coins): [6, 17, 25, 33, 64]\n",
      "Coin Set 4 (6 coins): [6, 9, 11, 22, 29, 76]\n",
      "Coin Set 5 (7 coins): [25, 26, 33, 47, 78, 90, 99]\n",
      "Coin Set 6 (8 coins): [16, 28, 31, 64, 78, 83, 86, 96]\n",
      "Coin Set 7 (9 coins): [4, 37, 44, 48, 53, 65, 67, 86, 94]\n",
      "Coin Set 8 (10 coins): [12, 14, 21, 22, 29, 50, 57, 58, 74, 92]\n",
      "Coin Set 9 (11 coins): [5, 10, 11, 16, 56, 66, 77, 82, 90, 94, 96]\n",
      "Coin Set 10 (12 coins): [6, 10, 20, 23, 33, 38, 39, 41, 62, 87, 96, 98]\n",
      "\n",
      "Coin sets have been copied to the clipboard.\n"
     ]
    }
   ],
   "source": [
    "#calling the function\n",
    "random_coin_sets = generate_random_coin_sets(num_sets, min_value, max_value, min_coins, max_coins)\n",
    "\n",
    "#sorting the coinset according to there number of coin in a coin set\n",
    "random_coin_sets.sort(key=len)\n",
    "\n",
    "#for printing all the coinset\n",
    "for i, coin_set in enumerate(random_coin_sets):\n",
    "    print(f\"Coin Set {i + 1} ({len(coin_set)} coins): {coin_set}\")\n",
    "\n",
    "#this part for copy the random coinset in clipboard as a formate that we can easliy use in other notebook\n",
    "formatted_coin_sets = \"CoinSet = \" + str(random_coin_sets)\n",
    "pyperclip.copy(formatted_coin_sets)\n",
    "print(\"\\nCoin sets have been copied to the clipboard.\")"
   ]
  },
  {
   "cell_type": "markdown",
   "id": "e06c19d3-b534-4778-92ec-a66999c90bf7",
   "metadata": {},
   "source": [
    "# <center><font size=\"50\" color=\"red\">Thank You</font></center>"
   ]
  },
  {
   "cell_type": "code",
   "execution_count": null,
   "id": "a8a80118-ebf6-42a0-8137-7851f69492e4",
   "metadata": {},
   "outputs": [],
   "source": []
  }
 ],
 "metadata": {
  "kernelspec": {
   "display_name": "Python 3 (ipykernel)",
   "language": "python",
   "name": "python3"
  },
  "language_info": {
   "codemirror_mode": {
    "name": "ipython",
    "version": 3
   },
   "file_extension": ".py",
   "mimetype": "text/x-python",
   "name": "python",
   "nbconvert_exporter": "python",
   "pygments_lexer": "ipython3",
   "version": "3.12.3"
  }
 },
 "nbformat": 4,
 "nbformat_minor": 5
}
